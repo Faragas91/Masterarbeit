{
 "cells": [
  {
   "cell_type": "code",
   "execution_count": 168,
   "id": "07332909",
   "metadata": {},
   "outputs": [],
   "source": [
    "import pandas as pd\n",
    "from sklearn.model_selection import train_test_split\n",
    "from sklearn.ensemble import RandomForestRegressor\n",
    "from sklearn.linear_model import LogisticRegression\n",
    "from sklearn.metrics import roc_auc_score, roc_curve, confusion_matrix, auc, accuracy_score, confusion_matrix, classification_report\n",
    "from sklearn.preprocessing import StandardScaler\n",
    "import matplotlib.pyplot as plt\n",
    "import seaborn as sns\n",
    "import numpy as np\n",
    "from sklearn import metrics"
   ]
  },
  {
   "cell_type": "code",
   "execution_count": 169,
   "id": "285ffba9",
   "metadata": {},
   "outputs": [],
   "source": [
    "df_sissi = pd.DataFrame(pd.read_excel(\"D:/Masterarbeit/2.Versuch/Data/REDfold_Excel/POS_SAMPLES.xlsx\"))\n",
    "df_sissiz_mono = pd.DataFrame(pd.read_excel(\"D:/Masterarbeit/2.Versuch/Data/REDfold_Excel/SISSIz_MONO.xlsx\"))\n",
    "df_sissiz_di = pd.DataFrame(pd.read_excel(\"D:/Masterarbeit/2.Versuch/Data/REDfold_Excel/SISSIz_DI.xlsx\"))\n",
    "df_multiperm_mono = pd.DataFrame(pd.read_excel(\"D:/Masterarbeit/2.Versuch/Data/REDfold_Excel/MULTIPERM_MONO.xlsx\"))\n",
    "df_multiperm_di = pd.DataFrame(pd.read_excel(\"D:/Masterarbeit/2.Versuch/Data/REDfold_Excel/MULTIPERM_DI.xlsx\"))\n",
    "df_aln_shuffle = pd.DataFrame(pd.read_excel(\"D:/Masterarbeit/2.Versuch/Data/REDfold_Excel/ALIFOLDz.xlsx\"))"
   ]
  },
  {
   "cell_type": "code",
   "execution_count": 170,
   "id": "0ab02634",
   "metadata": {},
   "outputs": [],
   "source": [
    "filter = 50000\n",
    "\n",
    "df_sissi_filterd = df_sissi[(df_sissi['Score'] >= -filter) & (df_sissi['Score'] <= filter)]\n",
    "df_sissiz_mono_filterd = df_sissiz_mono[(df_sissiz_mono['Score'] >= -filter) & (df_sissiz_mono['Score'] <= filter)]\n",
    "df_sissiz_di_filterd = df_sissiz_di[(df_sissiz_di['Score'] >= -filter) & (df_sissiz_di['Score'] <= filter)]\n",
    "df_multiperm_mono_filterd = df_multiperm_mono[(df_multiperm_mono['Score'] >= -filter) & (df_multiperm_mono['Score'] <= filter)]\n",
    "df_multiperm_di_filterd = df_multiperm_di[(df_multiperm_di['Score'] >= -filter) & (df_multiperm_di['Score'] <= filter)]\n",
    "df_aln_shuffle_filterd = df_aln_shuffle[(df_aln_shuffle['Score'] >= -filter) & (df_aln_shuffle['Score'] <= filter)]"
   ]
  },
  {
   "cell_type": "code",
   "execution_count": 171,
   "id": "4433c6cc",
   "metadata": {},
   "outputs": [],
   "source": [
    "# df_sissi = pd.DataFrame(pd.read_excel(\"C:/bla/Waste/MA/2.Versuch/REDfold_Excel/sissi.xlsx\"))\n",
    "# df_sissiz_mono = pd.DataFrame(pd.read_excel(\"C:/bla/Waste/MA/2.Versuch/REDfold_Excel/sissiz_mono.xlsx\"))\n",
    "# df_sissiz_di = pd.DataFrame(pd.read_excel(\"C:/bla/Waste/MA/2.Versuch/REDfold_Excel/sissiz_di.xlsx\"))\n",
    "# df_multiperm_mono = pd.DataFrame(pd.read_excel(\"C:/bla/Waste/MA/2.Versuch/REDfold_Excel/multiperm_mono.xlsx\"))\n",
    "# df_multiperm_di = pd.DataFrame(pd.read_excel(\"C:/bla/Waste/MA/2.Versuch/REDfold_Excel/multiperm_di.xlsx\"))\n",
    "# df_aln_shuffle = pd.DataFrame(pd.read_excel(\"C:/bla/Waste/MA/2.Versuch/REDfold_Excel/alifoldz.xlsx\"))"
   ]
  },
  {
   "cell_type": "code",
   "execution_count": 172,
   "id": "24548732",
   "metadata": {},
   "outputs": [
    {
     "data": {
      "text/html": [
       "<div>\n",
       "<style scoped>\n",
       "    .dataframe tbody tr th:only-of-type {\n",
       "        vertical-align: middle;\n",
       "    }\n",
       "\n",
       "    .dataframe tbody tr th {\n",
       "        vertical-align: top;\n",
       "    }\n",
       "\n",
       "    .dataframe thead th {\n",
       "        text-align: right;\n",
       "    }\n",
       "</style>\n",
       "<table border=\"1\" class=\"dataframe\">\n",
       "  <thead>\n",
       "    <tr style=\"text-align: right;\">\n",
       "      <th></th>\n",
       "      <th>Score</th>\n",
       "    </tr>\n",
       "  </thead>\n",
       "  <tbody>\n",
       "    <tr>\n",
       "      <th>count</th>\n",
       "      <td>3.900000e+04</td>\n",
       "    </tr>\n",
       "    <tr>\n",
       "      <th>mean</th>\n",
       "      <td>1.156769e+05</td>\n",
       "    </tr>\n",
       "    <tr>\n",
       "      <th>std</th>\n",
       "      <td>1.181970e+05</td>\n",
       "    </tr>\n",
       "    <tr>\n",
       "      <th>min</th>\n",
       "      <td>-1.254000e+02</td>\n",
       "    </tr>\n",
       "    <tr>\n",
       "      <th>25%</th>\n",
       "      <td>-9.340000e+00</td>\n",
       "    </tr>\n",
       "    <tr>\n",
       "      <th>50%</th>\n",
       "      <td>9.998120e+04</td>\n",
       "    </tr>\n",
       "    <tr>\n",
       "      <th>75%</th>\n",
       "      <td>1.999843e+05</td>\n",
       "    </tr>\n",
       "    <tr>\n",
       "      <th>max</th>\n",
       "      <td>1.000088e+06</td>\n",
       "    </tr>\n",
       "  </tbody>\n",
       "</table>\n",
       "</div>"
      ],
      "text/plain": [
       "              Score\n",
       "count  3.900000e+04\n",
       "mean   1.156769e+05\n",
       "std    1.181970e+05\n",
       "min   -1.254000e+02\n",
       "25%   -9.340000e+00\n",
       "50%    9.998120e+04\n",
       "75%    1.999843e+05\n",
       "max    1.000088e+06"
      ]
     },
     "execution_count": 172,
     "metadata": {},
     "output_type": "execute_result"
    }
   ],
   "source": [
    "df_sissi[['Score']].describe()"
   ]
  },
  {
   "cell_type": "code",
   "execution_count": 173,
   "id": "6b053c45",
   "metadata": {},
   "outputs": [
    {
     "data": {
      "text/html": [
       "<div>\n",
       "<style scoped>\n",
       "    .dataframe tbody tr th:only-of-type {\n",
       "        vertical-align: middle;\n",
       "    }\n",
       "\n",
       "    .dataframe tbody tr th {\n",
       "        vertical-align: top;\n",
       "    }\n",
       "\n",
       "    .dataframe thead th {\n",
       "        text-align: right;\n",
       "    }\n",
       "</style>\n",
       "<table border=\"1\" class=\"dataframe\">\n",
       "  <thead>\n",
       "    <tr style=\"text-align: right;\">\n",
       "      <th></th>\n",
       "      <th>Score</th>\n",
       "    </tr>\n",
       "  </thead>\n",
       "  <tbody>\n",
       "    <tr>\n",
       "      <th>count</th>\n",
       "      <td>39000.000000</td>\n",
       "    </tr>\n",
       "    <tr>\n",
       "      <th>mean</th>\n",
       "      <td>105701.704167</td>\n",
       "    </tr>\n",
       "    <tr>\n",
       "      <th>std</th>\n",
       "      <td>114519.385281</td>\n",
       "    </tr>\n",
       "    <tr>\n",
       "      <th>min</th>\n",
       "      <td>-43.600000</td>\n",
       "    </tr>\n",
       "    <tr>\n",
       "      <th>25%</th>\n",
       "      <td>31.590000</td>\n",
       "    </tr>\n",
       "    <tr>\n",
       "      <th>50%</th>\n",
       "      <td>100014.540000</td>\n",
       "    </tr>\n",
       "    <tr>\n",
       "      <th>75%</th>\n",
       "      <td>200013.910000</td>\n",
       "    </tr>\n",
       "    <tr>\n",
       "      <th>max</th>\n",
       "      <td>700052.190000</td>\n",
       "    </tr>\n",
       "  </tbody>\n",
       "</table>\n",
       "</div>"
      ],
      "text/plain": [
       "               Score\n",
       "count   39000.000000\n",
       "mean   105701.704167\n",
       "std    114519.385281\n",
       "min       -43.600000\n",
       "25%        31.590000\n",
       "50%    100014.540000\n",
       "75%    200013.910000\n",
       "max    700052.190000"
      ]
     },
     "execution_count": 173,
     "metadata": {},
     "output_type": "execute_result"
    }
   ],
   "source": [
    "df_sissiz_mono[['Score']].describe()"
   ]
  },
  {
   "cell_type": "code",
   "execution_count": 174,
   "id": "62df0a14",
   "metadata": {},
   "outputs": [
    {
     "data": {
      "text/html": [
       "<div>\n",
       "<style scoped>\n",
       "    .dataframe tbody tr th:only-of-type {\n",
       "        vertical-align: middle;\n",
       "    }\n",
       "\n",
       "    .dataframe tbody tr th {\n",
       "        vertical-align: top;\n",
       "    }\n",
       "\n",
       "    .dataframe thead th {\n",
       "        text-align: right;\n",
       "    }\n",
       "</style>\n",
       "<table border=\"1\" class=\"dataframe\">\n",
       "  <thead>\n",
       "    <tr style=\"text-align: right;\">\n",
       "      <th></th>\n",
       "      <th>Score</th>\n",
       "    </tr>\n",
       "  </thead>\n",
       "  <tbody>\n",
       "    <tr>\n",
       "      <th>count</th>\n",
       "      <td>39000.000000</td>\n",
       "    </tr>\n",
       "    <tr>\n",
       "      <th>mean</th>\n",
       "      <td>109605.745635</td>\n",
       "    </tr>\n",
       "    <tr>\n",
       "      <th>std</th>\n",
       "      <td>112443.569103</td>\n",
       "    </tr>\n",
       "    <tr>\n",
       "      <th>min</th>\n",
       "      <td>-50.290000</td>\n",
       "    </tr>\n",
       "    <tr>\n",
       "      <th>25%</th>\n",
       "      <td>33.190000</td>\n",
       "    </tr>\n",
       "    <tr>\n",
       "      <th>50%</th>\n",
       "      <td>100018.105000</td>\n",
       "    </tr>\n",
       "    <tr>\n",
       "      <th>75%</th>\n",
       "      <td>200015.200000</td>\n",
       "    </tr>\n",
       "    <tr>\n",
       "      <th>max</th>\n",
       "      <td>800056.190000</td>\n",
       "    </tr>\n",
       "  </tbody>\n",
       "</table>\n",
       "</div>"
      ],
      "text/plain": [
       "               Score\n",
       "count   39000.000000\n",
       "mean   109605.745635\n",
       "std    112443.569103\n",
       "min       -50.290000\n",
       "25%        33.190000\n",
       "50%    100018.105000\n",
       "75%    200015.200000\n",
       "max    800056.190000"
      ]
     },
     "execution_count": 174,
     "metadata": {},
     "output_type": "execute_result"
    }
   ],
   "source": [
    "df_sissiz_di[['Score']].describe()"
   ]
  },
  {
   "cell_type": "code",
   "execution_count": 175,
   "id": "b0e9daed",
   "metadata": {},
   "outputs": [
    {
     "data": {
      "text/html": [
       "<div>\n",
       "<style scoped>\n",
       "    .dataframe tbody tr th:only-of-type {\n",
       "        vertical-align: middle;\n",
       "    }\n",
       "\n",
       "    .dataframe tbody tr th {\n",
       "        vertical-align: top;\n",
       "    }\n",
       "\n",
       "    .dataframe thead th {\n",
       "        text-align: right;\n",
       "    }\n",
       "</style>\n",
       "<table border=\"1\" class=\"dataframe\">\n",
       "  <thead>\n",
       "    <tr style=\"text-align: right;\">\n",
       "      <th></th>\n",
       "      <th>Score</th>\n",
       "    </tr>\n",
       "  </thead>\n",
       "  <tbody>\n",
       "    <tr>\n",
       "      <th>count</th>\n",
       "      <td>39000.000000</td>\n",
       "    </tr>\n",
       "    <tr>\n",
       "      <th>mean</th>\n",
       "      <td>111343.951485</td>\n",
       "    </tr>\n",
       "    <tr>\n",
       "      <th>std</th>\n",
       "      <td>114876.582673</td>\n",
       "    </tr>\n",
       "    <tr>\n",
       "      <th>min</th>\n",
       "      <td>-64.200000</td>\n",
       "    </tr>\n",
       "    <tr>\n",
       "      <th>25%</th>\n",
       "      <td>32.187500</td>\n",
       "    </tr>\n",
       "    <tr>\n",
       "      <th>50%</th>\n",
       "      <td>100018.250000</td>\n",
       "    </tr>\n",
       "    <tr>\n",
       "      <th>75%</th>\n",
       "      <td>200019.285000</td>\n",
       "    </tr>\n",
       "    <tr>\n",
       "      <th>max</th>\n",
       "      <td>900053.250000</td>\n",
       "    </tr>\n",
       "  </tbody>\n",
       "</table>\n",
       "</div>"
      ],
      "text/plain": [
       "               Score\n",
       "count   39000.000000\n",
       "mean   111343.951485\n",
       "std    114876.582673\n",
       "min       -64.200000\n",
       "25%        32.187500\n",
       "50%    100018.250000\n",
       "75%    200019.285000\n",
       "max    900053.250000"
      ]
     },
     "execution_count": 175,
     "metadata": {},
     "output_type": "execute_result"
    }
   ],
   "source": [
    "df_multiperm_mono[['Score']].describe()"
   ]
  },
  {
   "cell_type": "code",
   "execution_count": 176,
   "id": "4a7ced70",
   "metadata": {},
   "outputs": [
    {
     "data": {
      "text/html": [
       "<div>\n",
       "<style scoped>\n",
       "    .dataframe tbody tr th:only-of-type {\n",
       "        vertical-align: middle;\n",
       "    }\n",
       "\n",
       "    .dataframe tbody tr th {\n",
       "        vertical-align: top;\n",
       "    }\n",
       "\n",
       "    .dataframe thead th {\n",
       "        text-align: right;\n",
       "    }\n",
       "</style>\n",
       "<table border=\"1\" class=\"dataframe\">\n",
       "  <thead>\n",
       "    <tr style=\"text-align: right;\">\n",
       "      <th></th>\n",
       "      <th>Score</th>\n",
       "    </tr>\n",
       "  </thead>\n",
       "  <tbody>\n",
       "    <tr>\n",
       "      <th>count</th>\n",
       "      <td>39000.000000</td>\n",
       "    </tr>\n",
       "    <tr>\n",
       "      <th>mean</th>\n",
       "      <td>113376.578888</td>\n",
       "    </tr>\n",
       "    <tr>\n",
       "      <th>std</th>\n",
       "      <td>116231.235333</td>\n",
       "    </tr>\n",
       "    <tr>\n",
       "      <th>min</th>\n",
       "      <td>-57.200000</td>\n",
       "    </tr>\n",
       "    <tr>\n",
       "      <th>25%</th>\n",
       "      <td>35.385000</td>\n",
       "    </tr>\n",
       "    <tr>\n",
       "      <th>50%</th>\n",
       "      <td>100021.000000</td>\n",
       "    </tr>\n",
       "    <tr>\n",
       "      <th>75%</th>\n",
       "      <td>200022.912500</td>\n",
       "    </tr>\n",
       "    <tr>\n",
       "      <th>max</th>\n",
       "      <td>900103.690000</td>\n",
       "    </tr>\n",
       "  </tbody>\n",
       "</table>\n",
       "</div>"
      ],
      "text/plain": [
       "               Score\n",
       "count   39000.000000\n",
       "mean   113376.578888\n",
       "std    116231.235333\n",
       "min       -57.200000\n",
       "25%        35.385000\n",
       "50%    100021.000000\n",
       "75%    200022.912500\n",
       "max    900103.690000"
      ]
     },
     "execution_count": 176,
     "metadata": {},
     "output_type": "execute_result"
    }
   ],
   "source": [
    "df_multiperm_di[['Score']].describe()"
   ]
  },
  {
   "cell_type": "code",
   "execution_count": 177,
   "id": "1013caa0",
   "metadata": {},
   "outputs": [
    {
     "data": {
      "text/html": [
       "<div>\n",
       "<style scoped>\n",
       "    .dataframe tbody tr th:only-of-type {\n",
       "        vertical-align: middle;\n",
       "    }\n",
       "\n",
       "    .dataframe tbody tr th {\n",
       "        vertical-align: top;\n",
       "    }\n",
       "\n",
       "    .dataframe thead th {\n",
       "        text-align: right;\n",
       "    }\n",
       "</style>\n",
       "<table border=\"1\" class=\"dataframe\">\n",
       "  <thead>\n",
       "    <tr style=\"text-align: right;\">\n",
       "      <th></th>\n",
       "      <th>Score</th>\n",
       "    </tr>\n",
       "  </thead>\n",
       "  <tbody>\n",
       "    <tr>\n",
       "      <th>count</th>\n",
       "      <td>3.900000e+04</td>\n",
       "    </tr>\n",
       "    <tr>\n",
       "      <th>mean</th>\n",
       "      <td>1.176588e+05</td>\n",
       "    </tr>\n",
       "    <tr>\n",
       "      <th>std</th>\n",
       "      <td>1.183421e+05</td>\n",
       "    </tr>\n",
       "    <tr>\n",
       "      <th>min</th>\n",
       "      <td>-6.300000e+01</td>\n",
       "    </tr>\n",
       "    <tr>\n",
       "      <th>25%</th>\n",
       "      <td>2.350000e+01</td>\n",
       "    </tr>\n",
       "    <tr>\n",
       "      <th>50%</th>\n",
       "      <td>1.000087e+05</td>\n",
       "    </tr>\n",
       "    <tr>\n",
       "      <th>75%</th>\n",
       "      <td>2.000151e+05</td>\n",
       "    </tr>\n",
       "    <tr>\n",
       "      <th>max</th>\n",
       "      <td>1.300079e+06</td>\n",
       "    </tr>\n",
       "  </tbody>\n",
       "</table>\n",
       "</div>"
      ],
      "text/plain": [
       "              Score\n",
       "count  3.900000e+04\n",
       "mean   1.176588e+05\n",
       "std    1.183421e+05\n",
       "min   -6.300000e+01\n",
       "25%    2.350000e+01\n",
       "50%    1.000087e+05\n",
       "75%    2.000151e+05\n",
       "max    1.300079e+06"
      ]
     },
     "execution_count": 177,
     "metadata": {},
     "output_type": "execute_result"
    }
   ],
   "source": [
    "df_aln_shuffle[['Score']].describe()"
   ]
  },
  {
   "cell_type": "code",
   "execution_count": null,
   "id": "52482671",
   "metadata": {},
   "outputs": [],
   "source": [
    "def createResultsFromExcel(dataframes):\n",
    "    labels = ['SISSI', 'SISSIz_mono', 'SISSIz_di', 'Multiperm_mono', 'Multiperm_di', 'aln-shuffle']\n",
    "    data = [df['Score'] for df in dataframes]\n",
    "    thresholds = [0]\n",
    "\n",
    "    plt.figure(figsize=(12, 8))\n",
    "    plt.boxplot(data, labels=labels)\n",
    "\n",
    "    for t in thresholds:\n",
    "        plt.axhline(y=t, color='red', linestyle='--', linewidth=1)\n",
    "\n",
    "    plt.axvspan(0.5, 1.5, color=\"darkgray\", alpha=0.75, edgecolor=\"black\", label='Positive Samples')\n",
    "    plt.axvspan(1.5, 3.5, color=\"sandybrown\", alpha=0.75, edgecolor=\"black\", label='Simulation')\n",
    "    plt.axvspan(3.5, 6.5, color=\"mediumpurple\", alpha=0.75, edgecolor=\"black\", label='Shuffle')\n",
    "\n",
    "    plt.title('Boxplot REDfold with RNAeval Score')\n",
    "    plt.legend()\n",
    "    plt.show()"
   ]
  },
  {
   "cell_type": "code",
   "execution_count": 179,
   "id": "a6ac0a3e",
   "metadata": {},
   "outputs": [
    {
     "name": "stderr",
     "output_type": "stream",
     "text": [
      "C:\\Users\\Stefan\\AppData\\Local\\Temp\\ipykernel_18844\\211907527.py:7: MatplotlibDeprecationWarning: The 'labels' parameter of boxplot() has been renamed 'tick_labels' since Matplotlib 3.9; support for the old name will be dropped in 3.11.\n",
      "  plt.boxplot(data, labels=labels)\n",
      "C:\\Users\\Stefan\\AppData\\Local\\Temp\\ipykernel_18844\\211907527.py:12: UserWarning: Setting the 'color' property will override the edgecolor or facecolor properties.\n",
      "  plt.axvspan(0.5, 1.5, color=\"darkgray\", alpha=0.75, edgecolor=\"black\", label='Positive Samples')\n",
      "C:\\Users\\Stefan\\AppData\\Local\\Temp\\ipykernel_18844\\211907527.py:13: UserWarning: Setting the 'color' property will override the edgecolor or facecolor properties.\n",
      "  plt.axvspan(1.5, 3.5, color=\"sandybrown\", alpha=0.75, edgecolor=\"black\", label='Simulation')\n",
      "C:\\Users\\Stefan\\AppData\\Local\\Temp\\ipykernel_18844\\211907527.py:14: UserWarning: Setting the 'color' property will override the edgecolor or facecolor properties.\n",
      "  plt.axvspan(3.5, 6.5, color=\"mediumpurple\", alpha=0.75, edgecolor=\"black\", label='Shuffle')\n"
     ]
    },
    {
     "data": {
      "image/png": "[encoded data removed]",
      "text/plain": [
       "<Figure size 1200x800 with 1 Axes>"
      ]
     },
     "metadata": {},
     "output_type": "display_data"
    }
   ],
   "source": [
    "dataframes = [df_sissi, df_sissiz_mono, df_sissiz_di, df_multiperm_mono, df_multiperm_di, df_aln_shuffle]\n",
    "createResultsFromExcel(dataframes)"
   ]
  },
  {
   "cell_type": "markdown",
   "id": "3817c6de",
   "metadata": {},
   "source": [
    "## Here are the filtered data of the RNAeval results "
   ]
  },
  {
   "cell_type": "code",
   "execution_count": 180,
   "id": "ac7bd578",
   "metadata": {},
   "outputs": [
    {
     "name": "stderr",
     "output_type": "stream",
     "text": [
      "C:\\Users\\Stefan\\AppData\\Local\\Temp\\ipykernel_18844\\211907527.py:7: MatplotlibDeprecationWarning: The 'labels' parameter of boxplot() has been renamed 'tick_labels' since Matplotlib 3.9; support for the old name will be dropped in 3.11.\n",
      "  plt.boxplot(data, labels=labels)\n",
      "C:\\Users\\Stefan\\AppData\\Local\\Temp\\ipykernel_18844\\211907527.py:12: UserWarning: Setting the 'color' property will override the edgecolor or facecolor properties.\n",
      "  plt.axvspan(0.5, 1.5, color=\"darkgray\", alpha=0.75, edgecolor=\"black\", label='Positive Samples')\n",
      "C:\\Users\\Stefan\\AppData\\Local\\Temp\\ipykernel_18844\\211907527.py:13: UserWarning: Setting the 'color' property will override the edgecolor or facecolor properties.\n",
      "  plt.axvspan(1.5, 3.5, color=\"sandybrown\", alpha=0.75, edgecolor=\"black\", label='Simulation')\n",
      "C:\\Users\\Stefan\\AppData\\Local\\Temp\\ipykernel_18844\\211907527.py:14: UserWarning: Setting the 'color' property will override the edgecolor or facecolor properties.\n",
      "  plt.axvspan(3.5, 6.5, color=\"mediumpurple\", alpha=0.75, edgecolor=\"black\", label='Shuffle')\n"
     ]
    },
    {
     "data": {
      "image/png": "[encoded data removed]",
      "text/plain": [
       "<Figure size 1200x800 with 1 Axes>"
      ]
     },
     "metadata": {},
     "output_type": "display_data"
    }
   ],
   "source": [
    "dataframes_filterd = [df_sissi_filterd, df_sissiz_mono_filterd, df_sissiz_di_filterd, df_multiperm_mono_filterd, df_multiperm_di_filterd, df_aln_shuffle_filterd]\n",
    "createResultsFromExcel(dataframes_filterd)"
   ]
  }
 ],
 "metadata": {
  "kernelspec": {
   "display_name": "base",
   "language": "python",
   "name": "python3"
  },
  "language_info": {
   "codemirror_mode": {
    "name": "ipython",
    "version": 3
   },
   "file_extension": ".py",
   "mimetype": "text/x-python",
   "name": "python",
   "nbconvert_exporter": "python",
   "pygments_lexer": "ipython3",
   "version": "3.12.7"
  }
 },
 "nbformat": 4,
 "nbformat_minor": 5
}
